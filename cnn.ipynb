{
 "cells": [
  {
   "attachments": {},
   "cell_type": "markdown",
   "id": "4b0ddb15",
   "metadata": {},
   "source": [
    "## Convolutional neural network using Tensorflow"
   ]
  },
  {
   "cell_type": "code",
   "execution_count": 1,
   "id": "f624b998",
   "metadata": {},
   "outputs": [],
   "source": [
    "import tensorflow \n",
    "import pandas as pd\n",
    "import numpy as np\n",
    "import matplotlib.pyplot as plt\n",
    "from memory_profiler import profile"
   ]
  },
  {
   "cell_type": "markdown",
   "id": "d306cd67",
   "metadata": {},
   "source": [
    "**Import of the MNIST data set**\n",
    "***"
   ]
  },
  {
   "cell_type": "code",
   "execution_count": 2,
   "id": "a3799f3c",
   "metadata": {},
   "outputs": [],
   "source": [
    "from tensorflow.keras.datasets import mnist\n",
    "\n",
    "(x_train, y_train) , (x_test, y_test) = mnist.load_data()"
   ]
  },
  {
   "cell_type": "code",
   "execution_count": 3,
   "id": "86fb7518",
   "metadata": {},
   "outputs": [
    {
     "data": {
      "image/png": "[encoded data removed]",
      "text/plain": [
       "<Figure size 640x480 with 1 Axes>"
      ]
     },
     "metadata": {},
     "output_type": "display_data"
    }
   ],
   "source": [
    "plt.imshow(x_train[0], cmap='Greys')\n",
    "plt.show()"
   ]
  },
  {
   "cell_type": "markdown",
   "id": "57f73a0c",
   "metadata": {},
   "source": [
    "**Convolutional Neural Network (CNN)**\n",
    "***"
   ]
  },
  {
   "cell_type": "code",
   "execution_count": 4,
   "id": "632cda04",
   "metadata": {},
   "outputs": [],
   "source": [
    "import tensorflow as tf\n",
    "from tensorflow import keras\n",
    "from tensorflow.keras import layers, models"
   ]
  },
  {
   "cell_type": "code",
   "execution_count": 5,
   "id": "2747a741",
   "metadata": {},
   "outputs": [
    {
     "data": {
      "text/plain": [
       "(60000, 28, 28)"
      ]
     },
     "execution_count": 5,
     "metadata": {},
     "output_type": "execute_result"
    }
   ],
   "source": [
    "x_train.shape"
   ]
  },
  {
   "cell_type": "code",
   "execution_count": 6,
   "id": "743b770a",
   "metadata": {},
   "outputs": [
    {
     "data": {
      "text/plain": [
       "(10000, 28, 28)"
      ]
     },
     "execution_count": 6,
     "metadata": {},
     "output_type": "execute_result"
    }
   ],
   "source": [
    "x_test.shape"
   ]
  },
  {
   "cell_type": "code",
   "execution_count": 7,
   "id": "a332f579",
   "metadata": {},
   "outputs": [],
   "source": [
    "x_train = x_train.reshape((60000, 28,28,1))\n",
    "x_train = x_train / 255.0 # normalization - pixel values from 0 to 1\n",
    "\n",
    "x_test = x_test.reshape((10000, 28,28,1))\n",
    "x_test  = x_test / 255.0 # normalization - pixel values from 0 to 1"
   ]
  },
  {
   "cell_type": "markdown",
   "id": "1757074e",
   "metadata": {},
   "source": [
    "<u>Activation functions</u>\n",
    "\n",
    "**ReLu** (ang. Rectified Linear Unit) is an activation function that returns the input value if it is positive or 0 if it is negative.\n",
    "\n",
    "**Softmax** is an activation function used in neural networks that transforms input values (also called logits) into a probability distribution."
   ]
  },
  {
   "cell_type": "code",
   "execution_count": 8,
   "id": "09a9684f",
   "metadata": {},
   "outputs": [],
   "source": [
    "def CNN_model():\n",
    "    model = models.Sequential()\n",
    "#     convolution layer\n",
    "    model.add(layers.Conv2D(32, (3, 3), activation='relu', input_shape=(28, 28, 1)))\n",
    "#     pooling layer \n",
    "    model.add(layers.MaxPool2D((2, 2)))\n",
    "#     fully connected layer\n",
    "    model.add(layers.Flatten())\n",
    "    model.add(layers.Dense(100, activation='relu'))\n",
    "#     output layer\n",
    "    model.add(layers.Dense(10, activation='softmax'))\n",
    "    \n",
    "    return model"
   ]
  },
  {
   "cell_type": "code",
   "execution_count": 9,
   "id": "748db9d8",
   "metadata": {},
   "outputs": [
    {
     "name": "stdout",
     "output_type": "stream",
     "text": [
      "Model: \"sequential\"\n",
      "_________________________________________________________________\n",
      " Layer (type)                Output Shape              Param #   \n",
      "=================================================================\n",
      " conv2d (Conv2D)             (None, 26, 26, 32)        320       \n",
      "                                                                 \n",
      " max_pooling2d (MaxPooling2D  (None, 13, 13, 32)       0         \n",
      " )                                                               \n",
      "                                                                 \n",
      " flatten (Flatten)           (None, 5408)              0         \n",
      "                                                                 \n",
      " dense (Dense)               (None, 100)               540900    \n",
      "                                                                 \n",
      " dense_1 (Dense)             (None, 10)                1010      \n",
      "                                                                 \n",
      "=================================================================\n",
      "Total params: 542,230\n",
      "Trainable params: 542,230\n",
      "Non-trainable params: 0\n",
      "_________________________________________________________________\n"
     ]
    }
   ],
   "source": [
    "model = CNN_model()\n",
    "model.summary()"
   ]
  },
  {
   "cell_type": "markdown",
   "id": "343cdc28",
   "metadata": {},
   "source": [
    "**Training**\n",
    "***\n",
    "**Loss function** - this function measures the difference between the predicted value and the true value of a model. The goal is to minimize the value of this function.\n",
    "\n",
    "**Cross-entropy** - it is a measure of difference between two probability distributions, the distribution of true values and distribution of predicted values. \n",
    "\n",
    "**Sparse Categorical Crossentropy** - it is a variant of categorical crossentropy where target labels are represented by integers.\n",
    "\n",
    "**Optimizer** - it defines a way of modifying the model of neural network (weights and biases) during the training process based on loss function. \n",
    "\n",
    "**Optimizer ADAM (Adaptive Moment Estimation)** - it is an adaptive optimizer. It updates the learning rate for each weight dynamically based on the gradients of past steps."
   ]
  },
  {
   "cell_type": "code",
   "execution_count": 10,
   "id": "37100e27",
   "metadata": {},
   "outputs": [
    {
     "name": "stdout",
     "output_type": "stream",
     "text": [
      "Epoch 1/3\n",
      "50/50 [==============================] - 4s 23ms/step - loss: 1.1273 - accuracy: 0.6820\n",
      "Epoch 2/3\n",
      "50/50 [==============================] - 1s 27ms/step - loss: 0.3773 - accuracy: 0.8960\n",
      "Epoch 3/3\n",
      "50/50 [==============================] - 1s 23ms/step - loss: 0.1996 - accuracy: 0.9480\n"
     ]
    },
    {
     "data": {
      "text/plain": [
       "<keras.callbacks.History at 0x2cca75bfdf0>"
      ]
     },
     "execution_count": 10,
     "metadata": {},
     "output_type": "execute_result"
    }
   ],
   "source": [
    "model.compile(optimizer='adam', loss='sparse_categorical_crossentropy', metrics=['accuracy'])\n",
    "\n",
    "class LossHistory(keras.callbacks.Callback):\n",
    "    def on_train_begin(self, logs={}):\n",
    "        self.losses = []\n",
    "\n",
    "    def on_batch_end(self, batch, logs={}):\n",
    "        self.losses.append(logs.get('loss'))\n",
    "\n",
    "x_train = x_train[0:500]\n",
    "y_train = y_train[0:500]\n",
    "\n",
    "history = LossHistory()\n",
    "model.fit(x=x_train, y=y_train, batch_size=10, epochs=3, callbacks=[history])"
   ]
  },
  {
   "cell_type": "code",
   "execution_count": 11,
   "id": "cb260629",
   "metadata": {},
   "outputs": [
    {
     "name": "stdout",
     "output_type": "stream",
     "text": [
      "[2.3089051246643066, 2.307141065597534, 2.2261712551116943, 2.1457557678222656, 2.153463840484619, 2.1221272945404053, 2.0717010498046875, 2.046260356903076, 2.0547900199890137, 2.015258550643921, 1.9672534465789795, 1.9786268472671509, 1.924225091934204, 1.8932605981826782, 1.8477870225906372, 1.8379757404327393, 1.774562120437622, 1.7376054525375366, 1.6827341318130493, 1.6621067523956299, 1.6582772731781006, 1.6235936880111694, 1.6109657287597656, 1.5859310626983643, 1.570955753326416, 1.5429242849349976, 1.5112470388412476, 1.4733755588531494, 1.4652076959609985, 1.4456201791763306, 1.4084256887435913, 1.3939212560653687, 1.3704345226287842, 1.363252878189087, 1.3439072370529175, 1.3299734592437744, 1.3076159954071045, 1.2840496301651, 1.2689704895019531, 1.2561676502227783, 1.2391667366027832, 1.214058518409729, 1.2024508714675903, 1.1947227716445923, 1.1711329221725464, 1.1547366380691528, 1.141879916191101, 1.1478335857391357, 1.14114248752594, 1.1273270845413208, 0.5110791921615601, 0.4297688901424408, 0.40425369143486023, 0.4929753839969635, 0.4484964609146118, 0.42978572845458984, 0.3845902979373932, 0.3534737229347229, 0.36304283142089844, 0.3478772044181824, 0.33523476123809814, 0.32629215717315674, 0.3194049000740051, 0.30342090129852295, 0.29954835772514343, 0.29310745000839233, 0.29617393016815186, 0.29008612036705017, 0.28008705377578735, 0.27265703678131104, 0.27508047223091125, 0.3216054439544678, 0.32222676277160645, 0.35739976167678833, 0.35246601700782776, 0.3415389657020569, 0.3396119475364685, 0.3283548057079315, 0.3281536400318146, 0.3310294449329376, 0.33593347668647766, 0.3397027254104614, 0.3346920609474182, 0.33945754170417786, 0.3337820768356323, 0.3409053087234497, 0.34480220079421997, 0.3384188115596771, 0.34310877323150635, 0.3437556028366089, 0.34794390201568604, 0.34552687406539917, 0.36674854159355164, 0.36010071635246277, 0.3631194531917572, 0.36489424109458923, 0.36633217334747314, 0.3643339276313782, 0.37591415643692017, 0.3772532641887665, 0.1010517030954361, 0.11772511154413223, 0.1331491470336914, 0.12375898659229279, 0.12630420923233032, 0.13805924355983734, 0.15817846357822418, 0.20498231053352356, 0.2124207764863968, 0.20006130635738373, 0.20877321064472198, 0.19640694558620453, 0.18960344791412354, 0.20329102873802185, 0.19792163372039795, 0.20627185702323914, 0.1962340623140335, 0.19502736628055573, 0.1882326602935791, 0.18149428069591522, 0.17909744381904602, 0.2018265426158905, 0.20370100438594818, 0.20207858085632324, 0.19862020015716553, 0.19635285437107086, 0.20459431409835815, 0.1985931396484375, 0.19728289544582367, 0.19376136362552643, 0.1917957067489624, 0.19191601872444153, 0.18895146250724792, 0.18785449862480164, 0.1843501478433609, 0.19356486201286316, 0.20352047681808472, 0.19980759918689728, 0.2027943879365921, 0.20218564569950104, 0.197979137301445, 0.1952752023935318, 0.19364531338214874, 0.19116175174713135, 0.19122737646102905, 0.18816497921943665, 0.19128768146038055, 0.19134916365146637, 0.19528327882289886, 0.19957002997398376]\n",
      "150\n"
     ]
    }
   ],
   "source": [
    "print(history.losses)\n",
    "print(len(history.losses))"
   ]
  },
  {
   "cell_type": "code",
   "execution_count": 12,
   "id": "26919a7f",
   "metadata": {},
   "outputs": [
    {
     "name": "stdout",
     "output_type": "stream",
     "text": [
      "50\n"
     ]
    },
    {
     "data": {
      "image/png": "[encoded data removed]",
      "text/plain": [
       "<Figure size 640x480 with 1 Axes>"
      ]
     },
     "metadata": {},
     "output_type": "display_data"
    }
   ],
   "source": [
    "import matplotlib.pyplot as plt\n",
    "\n",
    "loss_no = list(range(1,51))\n",
    "print(len(history.losses[50:100]))\n",
    "plt.plot(loss_no, history.losses[0:50], color='red', label='epoch 1')\n",
    "plt.plot(loss_no, history.losses[50:100], color='green', label='epoch 2')\n",
    "plt.plot(loss_no, history.losses[100:150], color='blue', label='epoch 3')\n",
    "plt.legend()\n",
    "plt.grid(True)\n",
    "plt.xlabel('ITERATION')\n",
    "plt.ylabel('LOSS')\n",
    "plt.title('LOSSES')\n",
    "plt.show()"
   ]
  },
  {
   "cell_type": "markdown",
   "id": "78bca7a2",
   "metadata": {},
   "source": [
    "**Test**\n",
    "***"
   ]
  },
  {
   "cell_type": "code",
   "execution_count": 13,
   "id": "45dddefc",
   "metadata": {},
   "outputs": [
    {
     "name": "stdout",
     "output_type": "stream",
     "text": [
      "313/313 [==============================] - 4s 10ms/step - loss: 0.5441 - accuracy: 0.8375\n"
     ]
    },
    {
     "data": {
      "text/plain": [
       "[0.5441386699676514, 0.8374999761581421]"
      ]
     },
     "execution_count": 13,
     "metadata": {},
     "output_type": "execute_result"
    }
   ],
   "source": [
    "model.evaluate(x_test, y_test)"
   ]
  },
  {
   "cell_type": "code",
   "execution_count": 14,
   "id": "293db6d2",
   "metadata": {},
   "outputs": [
    {
     "data": {
      "text/plain": [
       "<matplotlib.image.AxesImage at 0x2cca79ec7f0>"
      ]
     },
     "execution_count": 14,
     "metadata": {},
     "output_type": "execute_result"
    },
    {
     "data": {
      "image/png": "[encoded data removed]",
      "text/plain": [
       "<Figure size 640x480 with 1 Axes>"
      ]
     },
     "metadata": {},
     "output_type": "display_data"
    }
   ],
   "source": [
    "idx = 163\n",
    "img = x_test[idx].reshape(28, 28)\n",
    "plt.imshow(img)"
   ]
  },
  {
   "cell_type": "markdown",
   "id": "b15745fc",
   "metadata": {},
   "source": [
    "**Prediction**\n",
    "***"
   ]
  },
  {
   "cell_type": "code",
   "execution_count": 15,
   "id": "243f5561",
   "metadata": {},
   "outputs": [
    {
     "name": "stdout",
     "output_type": "stream",
     "text": [
      "313/313 [==============================] - 3s 9ms/step\n"
     ]
    }
   ],
   "source": [
    "predictions = model.predict(x_test)"
   ]
  },
  {
   "cell_type": "code",
   "execution_count": 16,
   "id": "991bb24e",
   "metadata": {},
   "outputs": [
    {
     "data": {
      "text/plain": [
       "array([2.2464649e-06, 4.8233623e-08, 1.4795172e-05, 2.6233361e-05,\n",
       "       9.9582064e-01, 1.7115747e-06, 4.5283778e-06, 2.6512400e-03,\n",
       "       9.9801427e-06, 1.4686099e-03], dtype=float32)"
      ]
     },
     "execution_count": 16,
     "metadata": {},
     "output_type": "execute_result"
    }
   ],
   "source": [
    "predictions[idx]"
   ]
  },
  {
   "cell_type": "code",
   "execution_count": 17,
   "id": "04dfb171",
   "metadata": {},
   "outputs": [
    {
     "data": {
      "text/plain": [
       "4"
      ]
     },
     "execution_count": 17,
     "metadata": {},
     "output_type": "execute_result"
    }
   ],
   "source": [
    "np.argmax(predictions[idx])"
   ]
  },
  {
   "cell_type": "code",
   "execution_count": 18,
   "id": "5b3fe4ac",
   "metadata": {},
   "outputs": [
    {
     "data": {
      "text/plain": [
       "['loss', 'accuracy']"
      ]
     },
     "execution_count": 18,
     "metadata": {},
     "output_type": "execute_result"
    }
   ],
   "source": [
    "model.metrics_names"
   ]
  },
  {
   "cell_type": "code",
   "execution_count": 20,
   "id": "91f51db7",
   "metadata": {},
   "outputs": [],
   "source": [
    "metrics = pd.DataFrame(history.losses)"
   ]
  },
  {
   "cell_type": "code",
   "execution_count": 21,
   "id": "f8335e03",
   "metadata": {},
   "outputs": [
    {
     "data": {
      "text/html": [
       "<div>\n",
       "<style scoped>\n",
       "    .dataframe tbody tr th:only-of-type {\n",
       "        vertical-align: middle;\n",
       "    }\n",
       "\n",
       "    .dataframe tbody tr th {\n",
       "        vertical-align: top;\n",
       "    }\n",
       "\n",
       "    .dataframe thead th {\n",
       "        text-align: right;\n",
       "    }\n",
       "</style>\n",
       "<table border=\"1\" class=\"dataframe\">\n",
       "  <thead>\n",
       "    <tr style=\"text-align: right;\">\n",
       "      <th></th>\n",
       "      <th>0</th>\n",
       "    </tr>\n",
       "  </thead>\n",
       "  <tbody>\n",
       "    <tr>\n",
       "      <th>0</th>\n",
       "      <td>2.308905</td>\n",
       "    </tr>\n",
       "    <tr>\n",
       "      <th>1</th>\n",
       "      <td>2.307141</td>\n",
       "    </tr>\n",
       "    <tr>\n",
       "      <th>2</th>\n",
       "      <td>2.226171</td>\n",
       "    </tr>\n",
       "    <tr>\n",
       "      <th>3</th>\n",
       "      <td>2.145756</td>\n",
       "    </tr>\n",
       "    <tr>\n",
       "      <th>4</th>\n",
       "      <td>2.153464</td>\n",
       "    </tr>\n",
       "  </tbody>\n",
       "</table>\n",
       "</div>"
      ],
      "text/plain": [
       "          0\n",
       "0  2.308905\n",
       "1  2.307141\n",
       "2  2.226171\n",
       "3  2.145756\n",
       "4  2.153464"
      ]
     },
     "execution_count": 21,
     "metadata": {},
     "output_type": "execute_result"
    }
   ],
   "source": [
    "metrics.head()"
   ]
  }
 ],
 "metadata": {
  "kernelspec": {
   "display_name": "Python 3 (ipykernel)",
   "language": "python",
   "name": "python3"
  },
  "language_info": {
   "codemirror_mode": {
    "name": "ipython",
    "version": 3
   },
   "file_extension": ".py",
   "mimetype": "text/x-python",
   "name": "python",
   "nbconvert_exporter": "python",
   "pygments_lexer": "ipython3",
   "version": "3.10.5"
  }
 },
 "nbformat": 4,
 "nbformat_minor": 5
}
